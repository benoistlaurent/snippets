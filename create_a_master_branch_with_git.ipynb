{
 "cells": [
  {
   "cell_type": "markdown",
   "metadata": {},
   "source": [
    "# Créer une branche master dans un dépôt qui n'en a pas\n",
    "\n",
    "\n",
    "## Inventaire des branches existantes\n",
    "\n",
    "Dans mon dépôt, j'ai uniquement une branche \"DEV\" :"
   ]
  },
  {
   "cell_type": "code",
   "execution_count": 2,
   "metadata": {},
   "outputs": [
    {
     "name": "stdout",
     "output_type": "stream",
     "text": [
      "* \u001b[32mDEV\u001b[m\r\n"
     ]
    }
   ],
   "source": [
    "!git branch -a"
   ]
  },
  {
   "cell_type": "markdown",
   "metadata": {},
   "source": [
    "## Création de la branche master\n",
    "\n",
    "Je fais la commande classique pour créer une branche et switcher sur cette branche :"
   ]
  },
  {
   "cell_type": "code",
   "execution_count": 3,
   "metadata": {},
   "outputs": [
    {
     "name": "stdout",
     "output_type": "stream",
     "text": [
      "Switched to a new branch 'master'\r\n",
      "Your branch is based on 'origin/master', but the upstream is gone.\r\n",
      "  (use \"git branch --unset-upstream\" to fixup)\r\n"
     ]
    }
   ],
   "source": [
    "!git checkout -b master"
   ]
  },
  {
   "cell_type": "markdown",
   "metadata": {},
   "source": [
    "Git me dit quelque chose que j'interprète comme \"le upstream master\" n'existe pas.\n",
    "Donc pas content.\n",
    "Mais comme il me dit quelle commande taper pour résoudre le problème, je le fais"
   ]
  },
  {
   "cell_type": "code",
   "execution_count": 4,
   "metadata": {},
   "outputs": [],
   "source": [
    "!git branch --unset-upstream"
   ]
  },
  {
   "cell_type": "markdown",
   "metadata": {},
   "source": [
    "Et je push"
   ]
  },
  {
   "cell_type": "code",
   "execution_count": 5,
   "metadata": {},
   "outputs": [
    {
     "name": "stdout",
     "output_type": "stream",
     "text": [
      "fatal: The current branch master has no upstream branch.\r\n",
      "To push the current branch and set the remote as upstream, use\r\n",
      "\r\n",
      "    git push --set-upstream origin master\r\n",
      "\r\n"
     ]
    }
   ],
   "source": [
    "!git push"
   ]
  },
  {
   "cell_type": "markdown",
   "metadata": {},
   "source": [
    "Et toujours pas content mais je connais bien ce message d'erreur et git me dit ce qu'il faut faire"
   ]
  },
  {
   "cell_type": "code",
   "execution_count": 6,
   "metadata": {},
   "outputs": [
    {
     "name": "stdout",
     "output_type": "stream",
     "text": [
      "Counting objects: 3, done.\r\n",
      "Writing objects:  33% (1/3)   \r",
      "Writing objects:  66% (2/3)   \r",
      "Writing objects: 100% (3/3)   \r",
      "Writing objects: 100% (3/3), 223 bytes | 0 bytes/s, done.\r\n",
      "Total 3 (delta 0), reused 0 (delta 0)\r\n",
      "To /Users/benoist/Desktop/test_git/depot\r\n",
      " * [new branch]      master -> master\r\n",
      "Branch master set up to track remote branch master from origin.\r\n"
     ]
    }
   ],
   "source": [
    "!git push --set-upstream origin master"
   ]
  },
  {
   "cell_type": "markdown",
   "metadata": {},
   "source": [
    "Cette fois tout semble fonctionner. On va vérifier ça."
   ]
  },
  {
   "cell_type": "markdown",
   "metadata": {},
   "source": [
    "\n",
    "\n",
    "## Vérification : nouveau clone et listage des branches\n",
    "\n",
    "Dans un autre dossier, je clone mon dépôt (comme d'habitude)"
   ]
  },
  {
   "cell_type": "markdown",
   "metadata": {},
   "source": [
    "_Note_ : pour des raisons technique liées à l'utilisation de jupyter-notebook, la prochaine commande est une commande Python"
   ]
  },
  {
   "cell_type": "code",
   "execution_count": 18,
   "metadata": {},
   "outputs": [],
   "source": [
    "# cd $HOME\n",
    "import os\n",
    "os.chdir('/Users/benoist')"
   ]
  },
  {
   "cell_type": "markdown",
   "metadata": {},
   "source": [
    "Clone du dépôt"
   ]
  },
  {
   "cell_type": "code",
   "execution_count": 20,
   "metadata": {},
   "outputs": [
    {
     "name": "stdout",
     "output_type": "stream",
     "text": [
      "Cloning into 'depot'...\r\n",
      "done.\r\n"
     ]
    }
   ],
   "source": [
    "!git clone /Users/benoist/Desktop/test_git/depot"
   ]
  },
  {
   "cell_type": "markdown",
   "metadata": {},
   "source": [
    "Je vais dans mon dépot et je fais l'inventaire des branches"
   ]
  },
  {
   "cell_type": "code",
   "execution_count": 21,
   "metadata": {},
   "outputs": [],
   "source": [
    "# cd depot\n",
    "os.chdir('depot')"
   ]
  },
  {
   "cell_type": "code",
   "execution_count": 22,
   "metadata": {},
   "outputs": [
    {
     "name": "stdout",
     "output_type": "stream",
     "text": [
      "* \u001b[32mmaster\u001b[m\r\n",
      "  \u001b[31mremotes/origin/DEV\u001b[m\r\n",
      "  \u001b[31mremotes/origin/HEAD\u001b[m -> origin/master\r\n",
      "  \u001b[31mremotes/origin/master\u001b[m\r\n"
     ]
    }
   ],
   "source": [
    "!git branch -a"
   ]
  },
  {
   "cell_type": "markdown",
   "metadata": {},
   "source": [
    "Tout est cool !"
   ]
  }
 ],
 "metadata": {
  "kernelspec": {
   "display_name": "Python 3",
   "language": "python",
   "name": "python3"
  },
  "language_info": {
   "codemirror_mode": {
    "name": "ipython",
    "version": 3
   },
   "file_extension": ".py",
   "mimetype": "text/x-python",
   "name": "python",
   "nbconvert_exporter": "python",
   "pygments_lexer": "ipython3",
   "version": "3.6.2"
  }
 },
 "nbformat": 4,
 "nbformat_minor": 2
}
