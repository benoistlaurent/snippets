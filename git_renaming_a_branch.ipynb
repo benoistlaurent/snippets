{
 "cells": [
  {
   "cell_type": "markdown",
   "metadata": {},
   "source": [
    "# Git : renommer une branche\n",
    "\n",
    "On ne peut pas à proprement parler renommer une branche distante en une seule commande.\n",
    "La procédure va donc consister à \n",
    "\n",
    "1. renommer la branche localement,\n",
    "2. supprimer l'ancienne branche distante,\n",
    "3. envoyer la nouvelle branche sur le dépôt distant.\n",
    "\n",
    "Let's go.\n",
    "\n",
    "Voici les branches de notre dépôt :"
   ]
  },
  {
   "cell_type": "code",
   "execution_count": 2,
   "metadata": {},
   "outputs": [
    {
     "name": "stdout",
     "output_type": "stream",
     "text": [
      "* \u001b[32mDEV\u001b[m\r\n",
      "  master\u001b[m\r\n",
      "  \u001b[31mremotes/origin/DEV\u001b[m\r\n",
      "  \u001b[31mremotes/origin/master\u001b[m\r\n"
     ]
    }
   ],
   "source": [
    "!git branch -a"
   ]
  },
  {
   "cell_type": "markdown",
   "metadata": {},
   "source": [
    "**Objectif :** renommer la branch `DEV` en branche `develop`."
   ]
  },
  {
   "cell_type": "markdown",
   "metadata": {},
   "source": [
    "## 1. Renommer la branche localement\n",
    "\n",
    "Renommage :"
   ]
  },
  {
   "cell_type": "code",
   "execution_count": 3,
   "metadata": {},
   "outputs": [],
   "source": [
    "!git branch --move DEV develop"
   ]
  },
  {
   "cell_type": "markdown",
   "metadata": {},
   "source": [
    "Vérification :"
   ]
  },
  {
   "cell_type": "code",
   "execution_count": 4,
   "metadata": {},
   "outputs": [
    {
     "name": "stdout",
     "output_type": "stream",
     "text": [
      "* \u001b[32mdevelop\u001b[m\r\n",
      "  master\u001b[m\r\n",
      "  \u001b[31mremotes/origin/DEV\u001b[m\r\n",
      "  \u001b[31mremotes/origin/master\u001b[m\r\n"
     ]
    }
   ],
   "source": [
    "!git branch -a"
   ]
  },
  {
   "cell_type": "markdown",
   "metadata": {},
   "source": [
    "On voit qu'on n'a plus de branch `DEV` en local mais bien une branche `develop`.\n",
    "On voit aussi que la branche *remote* (distante) s'appelle toujours `DEV`."
   ]
  },
  {
   "cell_type": "markdown",
   "metadata": {},
   "source": [
    "## 2. Renommer la branche sur le dépôt distant\n",
    "\n",
    "Comme dit précédemment, on ne peut pas renommer la branche distante.\n",
    "On va donc supprimer la branche `DEV` et envoyer la branche `develop` ce qui aura exactement le même effet."
   ]
  },
  {
   "cell_type": "markdown",
   "metadata": {},
   "source": [
    "Supprimer la branche `DEV` distante :"
   ]
  },
  {
   "cell_type": "code",
   "execution_count": 6,
   "metadata": {},
   "outputs": [
    {
     "name": "stdout",
     "output_type": "stream",
     "text": [
      "To /Users/benoist/Desktop/test_git/depot\r\n",
      " - [deleted]         DEV\r\n"
     ]
    }
   ],
   "source": [
    "!git push origin --delete DEV"
   ]
  },
  {
   "cell_type": "markdown",
   "metadata": {},
   "source": [
    "Envoyer la branche `develop` :"
   ]
  },
  {
   "cell_type": "code",
   "execution_count": 7,
   "metadata": {},
   "outputs": [
    {
     "name": "stdout",
     "output_type": "stream",
     "text": [
      "Total 0 (delta 0), reused 0 (delta 0)\r\n",
      "To /Users/benoist/Desktop/test_git/depot\r\n",
      " * [new branch]      develop -> develop\r\n"
     ]
    }
   ],
   "source": [
    "!git push origin develop"
   ]
  },
  {
   "cell_type": "markdown",
   "metadata": {},
   "source": [
    "Vérification :"
   ]
  },
  {
   "cell_type": "code",
   "execution_count": 8,
   "metadata": {},
   "outputs": [
    {
     "name": "stdout",
     "output_type": "stream",
     "text": [
      "* \u001b[32mdevelop\u001b[m\r\n",
      "  master\u001b[m\r\n",
      "  \u001b[31mremotes/origin/develop\u001b[m\r\n",
      "  \u001b[31mremotes/origin/master\u001b[m\r\n"
     ]
    }
   ],
   "source": [
    "!git branch -a"
   ]
  },
  {
   "cell_type": "markdown",
   "metadata": {},
   "source": [
    "Et voilà !"
   ]
  },
  {
   "cell_type": "markdown",
   "metadata": {},
   "source": [
    "## Astuce : renommer une branche distante en une seule commande\n",
    "\n",
    "Il existe une syntaxe qui permet de renommer une branche distante en une seule commande.\n",
    "Cette syntaxe n'est pas très claire donc ne pas essayer de comprendre !\n",
    "\n",
    "Le format est le suivant :\n",
    "\n",
    "    git push origin :old-name new-name\n",
    "   \n",
    "Dans notre cas, la commande est la suivante :"
   ]
  },
  {
   "cell_type": "code",
   "execution_count": 9,
   "metadata": {},
   "outputs": [
    {
     "name": "stdout",
     "output_type": "stream",
     "text": [
      "Total 0 (delta 0), reused 0 (delta 0)\r\n",
      "To /Users/benoist/Desktop/test_git/depot\r\n",
      " - [deleted]         DEV\r\n",
      " * [new branch]      develop -> develop\r\n"
     ]
    }
   ],
   "source": [
    "!git push origin :DEV develop"
   ]
  },
  {
   "cell_type": "markdown",
   "metadata": {},
   "source": [
    "Vérification :"
   ]
  },
  {
   "cell_type": "code",
   "execution_count": 10,
   "metadata": {},
   "outputs": [
    {
     "name": "stdout",
     "output_type": "stream",
     "text": [
      "* \u001b[32mdevelop\u001b[m\r\n",
      "  master\u001b[m\r\n",
      "  \u001b[31mremotes/origin/develop\u001b[m\r\n",
      "  \u001b[31mremotes/origin/master\u001b[m\r\n"
     ]
    }
   ],
   "source": [
    "!git branch -a"
   ]
  },
  {
   "cell_type": "markdown",
   "metadata": {},
   "source": [
    "*Note*: dans cette version aussi il faut commencer par [renommer la branche localement](#1.-Renommer-la-branche-localement)"
   ]
  }
 ],
 "metadata": {
  "kernelspec": {
   "display_name": "Python 3",
   "language": "python",
   "name": "python3"
  },
  "language_info": {
   "codemirror_mode": {
    "name": "ipython",
    "version": 3
   },
   "file_extension": ".py",
   "mimetype": "text/x-python",
   "name": "python",
   "nbconvert_exporter": "python",
   "pygments_lexer": "ipython3",
   "version": "3.6.2"
  }
 },
 "nbformat": 4,
 "nbformat_minor": 2
}
